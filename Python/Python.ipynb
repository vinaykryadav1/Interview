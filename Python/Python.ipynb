{
 "cells": [
  {
   "cell_type": "code",
   "execution_count": null,
   "id": "6801be5e",
   "metadata": {},
   "outputs": [
    {
     "name": "stdout",
     "output_type": "stream",
     "text": [
      "<class 'int'>\n",
      "<class 'decimal.Decimal'>\n"
     ]
    }
   ],
   "source": [
    "#Converting an integer into Decimals \n",
    "import decimal\n",
    "num = 10\n",
    "inte = decimal.Decimal(num)\n",
    "print(type(num))\n",
    "print(type(inte))"
   ]
  },
  {
   "cell_type": "code",
   "execution_count": null,
   "id": "c8bab336",
   "metadata": {},
   "outputs": [
    {
     "name": "stdout",
     "output_type": "stream",
     "text": [
      "vowel: 3\n",
      "Non_vowel: 8\n"
     ]
    }
   ],
   "source": [
    "#Counting Vowel \n",
    "vowel = ['a','e','i','o','u']\n",
    "word = 'Python_code'\n",
    "vowel_count = 0\n",
    "non_vowel_count = 0\n",
    "for chart in word:\n",
    "    if chart in vowel:\n",
    "        vowel_count+=1\n",
    "    elif chart not in vowel:\n",
    "        non_vowel_count +=1\n",
    "print(f\"vowel: {vowel_count}\")\n",
    "print(f\"Non_vowel: {non_vowel_count}\")"
   ]
  },
  {
   "cell_type": "code",
   "execution_count": 28,
   "id": "bb4f2729",
   "metadata": {},
   "outputs": [
    {
     "name": "stdout",
     "output_type": "stream",
     "text": [
      "Max_No: 8\n",
      "Min_No: 1\n"
     ]
    }
   ],
   "source": [
    "# Finding Max and Min Number\n",
    "list1 = [1,8,3,5,6,7,2]\n",
    "max_num = list1[0]\n",
    "mim_num = list1[0]\n",
    "for i in list1:\n",
    "    if max_num<i:\n",
    "        max_num = i\n",
    "    elif mim_num>1:\n",
    "        mim_num = i\n",
    "print(f\"Max_No: {max_num}\")\n",
    "print(f\"Min_No: {mim_num}\")"
   ]
  },
  {
   "cell_type": "code",
   "execution_count": null,
   "id": "61691225",
   "metadata": {},
   "outputs": [
    {
     "name": "stdout",
     "output_type": "stream",
     "text": [
      "[1, 2, 3, 4, 5, 6, 7, 8]\n"
     ]
    }
   ],
   "source": [
    "#merge list\n",
    "list1 = [1,2,3,4]\n",
    "list2 = [5,6,7,8]\n",
    "\n",
    "merge_data = list1+list2\n",
    "\n",
    "print(merge_data)\n",
    "\n",
    "# for i in range(len(list1)):\n",
    "#     merge_data.append(list1[i] + list2[i])\n",
    "# print(merge_data)\n"
   ]
  },
  {
   "cell_type": "code",
   "execution_count": null,
   "id": "42a7f285",
   "metadata": {},
   "outputs": [],
   "source": [
    "list1 = [1,2,3,4]\n",
    "list2 = [5,6,7,8]\n",
    "\n",
    "#Q1 merge list seperate 2 list like [1,2][3,4]\n",
    "#Q2 seperate 2 list like [1,5][2,6]\n"
   ]
  },
  {
   "cell_type": "code",
   "execution_count": 74,
   "id": "d409d518",
   "metadata": {},
   "outputs": [
    {
     "name": "stdout",
     "output_type": "stream",
     "text": [
      "3\n"
     ]
    }
   ],
   "source": [
    "# counting the num of string\n",
    "word = 'Interviewe'\n",
    "letter = 'e'\n",
    "count = 0\n",
    "for i in word:\n",
    "    if i == letter:\n",
    "        count+=1\n",
    "print(count)"
   ]
  },
  {
   "cell_type": "code",
   "execution_count": 3,
   "id": "edcb8389",
   "metadata": {},
   "outputs": [
    {
     "name": "stdout",
     "output_type": "stream",
     "text": [
      "5\n"
     ]
    }
   ],
   "source": [
    "# word = 'Hell@ Wor!d $50##'\n",
    "# sp_char = '!@#$%^&*()'\n",
    "# count = 0\n",
    "# for i in word:\n",
    "#     if i in sp_char:\n",
    "#         count+=1\n",
    "# print(count)\n",
    "\n",
    "def count_sp_char(text):\n",
    "    sp_char = '!@#$%^&*()'\n",
    "    count = 0\n",
    "    for i in word:\n",
    "        if i in sp_char:\n",
    "            count+=1\n",
    "    return count\n",
    "\n",
    "word = 'Hell@ Wor!d $50##'\n",
    "print(count_sp_char(word))"
   ]
  },
  {
   "cell_type": "code",
   "execution_count": 4,
   "id": "b31edd87",
   "metadata": {},
   "outputs": [
    {
     "name": "stdout",
     "output_type": "stream",
     "text": [
      "CODE\n"
     ]
    }
   ],
   "source": [
    "import re\n",
    "word = \"C O D E\"\n",
    "letter = re.sub(\"[/ s+]\",\"\",word)\n",
    "print(letter)"
   ]
  },
  {
   "cell_type": "code",
   "execution_count": 5,
   "id": "32d09445",
   "metadata": {},
   "outputs": [
    {
     "data": {
      "text/plain": [
       "'Yadav Kumar Vinay is name My'"
      ]
     },
     "execution_count": 5,
     "metadata": {},
     "output_type": "execute_result"
    }
   ],
   "source": [
    "# word = \"My name is Vinay Kumar Yadav\"\n",
    "\n",
    "# #1 split\n",
    "# Q1 = word.split(\" \")\n",
    "# print(Q1)\n",
    "# #2 reves\n",
    "# Q2 = Q1[::-1]\n",
    "# print(Q2)\n",
    "# #3 merge\n",
    "# Q3 = \" \".join(Q2)\n",
    "# print(Q3)\n",
    "\n",
    "def rev_word(string):\n",
    "    q3 = \" \".join(string.split()[::-1])\n",
    "    return q3\n",
    "word = \"My name is Vinay Kumar Yadav\"\n",
    "rev_word(word)\n",
    "\n"
   ]
  },
  {
   "cell_type": "code",
   "execution_count": 6,
   "id": "12b39a61",
   "metadata": {},
   "outputs": [
    {
     "name": "stdout",
     "output_type": "stream",
     "text": [
      "[1, 2, 4, 6, 8]\n"
     ]
    }
   ],
   "source": [
    "list1 = [1,4,6,2,8]\n",
    "ti = sorted(list1)\n",
    "print(ti)"
   ]
  },
  {
   "cell_type": "code",
   "execution_count": 7,
   "id": "2da69b20",
   "metadata": {},
   "outputs": [
    {
     "name": "stdout",
     "output_type": "stream",
     "text": [
      "([2, 22], [23], [2, 23])\n"
     ]
    }
   ],
   "source": [
    "# spliting even num and old num\n",
    "from sympy import *\n",
    "# list1 = [1,2,3,4,5,6,7,8,9]\n",
    "# even = []\n",
    "# odd = []\n",
    "# prim = []\n",
    "# for num in list1:\n",
    "#     if num%2==0:\n",
    "#         even.append(num)\n",
    "#     if num%2!=0:\n",
    "#         odd.append(num)\n",
    "#     if isprime(num):\n",
    "#         prim.append(num)\n",
    "# print(f\"Even: {even}\")\n",
    "# print(f\"Odd: {odd}\")\n",
    "# print(f\"Prime: {prim}\")\n",
    "\n",
    "def num_type(number):\n",
    "    even,odd,prim = [],[],[]\n",
    "    for num in number:\n",
    "        if num%2==0:even.append(num)\n",
    "        if num%2!=0:odd.append(num)\n",
    "        if isprime(num):prim.append(num)\n",
    "    return even,odd,prim\n",
    "list22 = [2,22,23]\n",
    "print(num_type(list22))\n",
    "\n"
   ]
  },
  {
   "cell_type": "code",
   "execution_count": 8,
   "id": "bea9c741",
   "metadata": {},
   "outputs": [],
   "source": [
    "import re\n",
    "word = \"Int123\"\n",
    "letter = []\n",
    "num = []\n",
    "\n",
    "# 1\n",
    "# for i in word:\n",
    "#     if re.sub(\"[0-9]\",\"\",i) == i:\n",
    "#         letter.append(i)\n",
    "#     elif re.sub(\"[a-zA-Z]\",\"\",i) ==i:\n",
    "#         num.append(i)\n",
    "# print(\"\".join(letter))\n",
    "# print(\"\".join(num))\n",
    "\n",
    "# 2\n",
    "# for i in word:\n",
    "#     if i.isalpha():\n",
    "#         letter.append(i)\n",
    "#     if i.isdigit():\n",
    "#         num.append(i)\n",
    "# print(\"\".join(letter))\n",
    "# print(\"\".join(num))\n",
    "\n",
    "# 3        \n",
    "# letter = \"\".join([i for i in word if i.isalpha()])\n",
    "# number = \"\".join([i for i in word if i.isdigit()])\n",
    "\n"
   ]
  },
  {
   "cell_type": "code",
   "execution_count": null,
   "id": "0fe4f7f9",
   "metadata": {},
   "outputs": [
    {
     "name": "stdout",
     "output_type": "stream",
     "text": [
      "4\n"
     ]
    }
   ],
   "source": [
    "word = 'abcabcbb'\n",
    "chart = list(dict.fromkeys(word))\n",
    "count = [word.count(ch) for ch in chart]\n",
    "print(max(count))"
   ]
  },
  {
   "cell_type": "code",
   "execution_count": null,
   "id": "ab85780b",
   "metadata": {},
   "outputs": [
    {
     "name": "stdout",
     "output_type": "stream",
     "text": [
      "(0,9) = 9\n",
      "(9,0) = 9\n",
      "(2,7) = 9\n",
      "(7,2) = 9\n",
      "(4,5) = 9\n",
      "(5,4) = 9\n"
     ]
    }
   ],
   "source": [
    "# Find All Pairs in a List That Sum to a Target Value\n",
    "list11 = [0,9,2,7,4,5]\n",
    "target = 9\n",
    "for i in list11:\n",
    "    compl = target - i\n",
    "    if compl in list11 :\n",
    "        print(f\"({i},{compl}) = {target}\")"
   ]
  },
  {
   "cell_type": "code",
   "execution_count": 2,
   "id": "bfe21253",
   "metadata": {},
   "outputs": [
    {
     "name": "stdout",
     "output_type": "stream",
     "text": [
      "[1, 2, 1, 4, 2, 5, 6]\n"
     ]
    }
   ],
   "source": [
    "def merge(list1,list2):\n",
    "    Merged = []\n",
    "    i = 0\n",
    "    j = 0\n",
    "\n",
    "    while i<len(list1) and j<len(list2):\n",
    "        if list1[i]<list2[j]:\n",
    "            Merged.append(list1[i])\n",
    "            i+=1\n",
    "        else:\n",
    "            Merged.append(list1[j])\n",
    "            j+=1\n",
    "    Merged.extend(list1[i:])\n",
    "    Merged.extend(list2[j:])\n",
    "    return Merged\n",
    "\n",
    "list1 = [1,2,4,5]\n",
    "list2 = [4,5,6]\n",
    "\n",
    "print(merge(list1,list2))"
   ]
  },
  {
   "cell_type": "code",
   "execution_count": null,
   "id": "a90fa761",
   "metadata": {},
   "outputs": [
    {
     "name": "stdout",
     "output_type": "stream",
     "text": [
      "120\n"
     ]
    }
   ],
   "source": [
    "num = 5 # 5*4*3*2*1\n",
    "# fa = 1\n",
    "# for i in range(1,num+1):\n",
    "#     # print(i)\n",
    "#     fa*=i\n",
    "\n",
    "# print(fa)\n",
    "\n",
    "def factorial(num):\n",
    "    fact = 1\n",
    "    for i in range(1,num+1):\n",
    "        fact*=i\n",
    "    return fact\n",
    "\n",
    "\n",
    "num = 5\n",
    "print(factorial(num))\n"
   ]
  },
  {
   "cell_type": "code",
   "execution_count": 177,
   "id": "1db84a7c",
   "metadata": {},
   "outputs": [
    {
     "name": "stdout",
     "output_type": "stream",
     "text": [
      "100\n",
      "500\n",
      "10\n",
      "10\n"
     ]
    }
   ],
   "source": [
    "ro = \"CDXX\"\n",
    "total = 0\n",
    "row_no= {\n",
    "    \"I\":1,\"V\":5,\"X\":10,\"L\":50,\"C\":100,\"D\":500,\"M\":1000\n",
    "}\n",
    "# print(row_no[\"C\"])\n",
    "\n",
    "for i in ro:\n",
    "    print(row_no[i])\n",
    "\n",
    "# def romanToInt(s):\n",
    "#   rom_no = {\"I\":1,\"V\":5,\"X\":10,\"L\":50,\"C\":100,\"D\":500,\"M\":1000}\n",
    "#   t_sum = 0\n",
    "#   for i in s:\n",
    "#     t_sum += rom_no[i]\n",
    "  \n",
    "#   return t_sum\n",
    "\n",
    "# s = \"CDXX\" \n",
    "\n",
    "# print(romanToInt(s))\n"
   ]
  },
  {
   "cell_type": "code",
   "execution_count": null,
   "id": "5d6e5674",
   "metadata": {},
   "outputs": [
    {
     "name": "stdout",
     "output_type": "stream",
     "text": [
      "[1, 3]\n"
     ]
    }
   ],
   "source": [
    "a = [1, 2, 3, 4, 5]\n",
    "b = [0, 1, 3, 7]\n",
    "\n",
    "def intr(a,b):\n",
    "    inter = []\n",
    "    for i in a:\n",
    "        for j in b:\n",
    "            if i == j :\n",
    "                inter.append(i)\n",
    "    return inter\n",
    "\n",
    "a = [1, 2, 3, 4, 5]\n",
    "b = [0, 1, 3, 7]\n",
    "\n",
    "print(intr(a,b))"
   ]
  },
  {
   "cell_type": "code",
   "execution_count": 1,
   "id": "dc655055",
   "metadata": {},
   "outputs": [
    {
     "data": {
      "text/html": [
       "<div>\n",
       "<style scoped>\n",
       "    .dataframe tbody tr th:only-of-type {\n",
       "        vertical-align: middle;\n",
       "    }\n",
       "\n",
       "    .dataframe tbody tr th {\n",
       "        vertical-align: top;\n",
       "    }\n",
       "\n",
       "    .dataframe thead th {\n",
       "        text-align: right;\n",
       "    }\n",
       "</style>\n",
       "<table border=\"1\" class=\"dataframe\">\n",
       "  <thead>\n",
       "    <tr style=\"text-align: right;\">\n",
       "      <th></th>\n",
       "      <th>Name</th>\n",
       "      <th>Contact_No</th>\n",
       "    </tr>\n",
       "  </thead>\n",
       "  <tbody>\n",
       "    <tr>\n",
       "      <th>0</th>\n",
       "      <td>Vinay</td>\n",
       "      <td>9238457483</td>\n",
       "    </tr>\n",
       "    <tr>\n",
       "      <th>1</th>\n",
       "      <td>Rohit</td>\n",
       "      <td>7345628928</td>\n",
       "    </tr>\n",
       "    <tr>\n",
       "      <th>2</th>\n",
       "      <td>Mohit</td>\n",
       "      <td>9234857289</td>\n",
       "    </tr>\n",
       "  </tbody>\n",
       "</table>\n",
       "</div>"
      ],
      "text/plain": [
       "    Name  Contact_No\n",
       "0  Vinay  9238457483\n",
       "1  Rohit  7345628928\n",
       "2  Mohit  9234857289"
      ]
     },
     "execution_count": 1,
     "metadata": {},
     "output_type": "execute_result"
    }
   ],
   "source": [
    "import pandas as pd\n",
    "\n",
    "data = {\n",
    "    \"applicant_name\":['Vinay','Rohit','Mohit'],\n",
    "    \"Contact_No\":['9238457483','7345628928','9234857289']\n",
    "}\n",
    "\n",
    "df = pd.DataFrame(data)\n",
    "\n",
    "df = df.rename(columns={\n",
    "    'applicant_name':\"Name\"\n",
    "})\n",
    "\n",
    "df\n"
   ]
  },
  {
   "cell_type": "code",
   "execution_count": null,
   "id": "f9acbc30",
   "metadata": {},
   "outputs": [
    {
     "name": "stdout",
     "output_type": "stream",
     "text": [
      "False\n"
     ]
    }
   ],
   "source": [
    "def contains_duplicate(input):\n",
    "    for i in set(input):\n",
    "        if input.count(i)>1:\n",
    "            return True\n",
    "    return False\n",
    "        \n",
    "list01  = [1,3,5,7]#[1,2,3,-1, 0 , 1,2]\n",
    "print(contains_duplicate(list01))"
   ]
  },
  {
   "cell_type": "code",
   "execution_count": null,
   "id": "c2f5767b",
   "metadata": {},
   "outputs": [
    {
     "name": "stdout",
     "output_type": "stream",
     "text": [
      "['e', 'i', 'l', 'n', 's', 't']\n",
      "['e', 'i', 'l', 'n', 's', 't']\n"
     ]
    }
   ],
   "source": [
    "s= 'listen'\n",
    "t = 'silent'\n",
    "\n",
    "print(sorted(s))\n",
    "print(sorted(t))"
   ]
  },
  {
   "cell_type": "code",
   "execution_count": null,
   "id": "ac550308",
   "metadata": {},
   "outputs": [],
   "source": [
    "def is_anagram(s, t):\n",
    "    return sorted(s) == sorted(t)\n",
    "\n",
    "s = \"lemur\" \n",
    "t = \"lemer\"\n",
    "print(is_anagram(s, t))"
   ]
  },
  {
   "cell_type": "code",
   "execution_count": 31,
   "id": "31185fed",
   "metadata": {},
   "outputs": [
    {
     "name": "stdout",
     "output_type": "stream",
     "text": [
      "21121\n"
     ]
    }
   ],
   "source": [
    "def number_letter_count(N):\n",
    "    import inflect\n",
    "    p = inflect.engine()\n",
    "    return sum(len(p.number_to_words(i).replace(\" \", \"\").replace(\"-\", \"\").replace(\"and\", \"and\" if i < 1000 and i > 100 else \"\")) for i in range(1, N+1))\n",
    "\n",
    "# Example usage\n",
    "print(number_letter_count(1000))  # Output: 21124\n"
   ]
  },
  {
   "cell_type": "code",
   "execution_count": null,
   "id": "a637a212",
   "metadata": {},
   "outputs": [
    {
     "name": "stdout",
     "output_type": "stream",
     "text": [
      "five\n"
     ]
    }
   ],
   "source": [
    "import inflect\n",
    "n = 5\n",
    "p = inflect.engine()\n",
    "print(p.number_to_words(n)) \n"
   ]
  },
  {
   "cell_type": "code",
   "execution_count": 14,
   "id": "98668c98",
   "metadata": {},
   "outputs": [
    {
     "name": "stdout",
     "output_type": "stream",
     "text": [
      "The factorial of 5 is 120\n"
     ]
    }
   ],
   "source": [
    "def factorial(n):\n",
    "    if n == 0:\n",
    "        return 1\n",
    "    else:\n",
    "        return n * factorial(n-1)\n",
    "\n",
    "# Test the function\n",
    "number = 5\n",
    "result = factorial(number)\n",
    "print(f\"The factorial of {number} is {result}\")"
   ]
  },
  {
   "cell_type": "code",
   "execution_count": 6,
   "id": "292b6553",
   "metadata": {},
   "outputs": [
    {
     "data": {
      "text/html": [
       "<div>\n",
       "<style scoped>\n",
       "    .dataframe tbody tr th:only-of-type {\n",
       "        vertical-align: middle;\n",
       "    }\n",
       "\n",
       "    .dataframe tbody tr th {\n",
       "        vertical-align: top;\n",
       "    }\n",
       "\n",
       "    .dataframe thead th {\n",
       "        text-align: right;\n",
       "    }\n",
       "</style>\n",
       "<table border=\"1\" class=\"dataframe\">\n",
       "  <thead>\n",
       "    <tr style=\"text-align: right;\">\n",
       "      <th></th>\n",
       "      <th>Name</th>\n",
       "      <th>Id</th>\n",
       "    </tr>\n",
       "  </thead>\n",
       "  <tbody>\n",
       "    <tr>\n",
       "      <th>0</th>\n",
       "      <td>A</td>\n",
       "      <td>1</td>\n",
       "    </tr>\n",
       "    <tr>\n",
       "      <th>1</th>\n",
       "      <td>B</td>\n",
       "      <td>2</td>\n",
       "    </tr>\n",
       "    <tr>\n",
       "      <th>2</th>\n",
       "      <td>C</td>\n",
       "      <td>3</td>\n",
       "    </tr>\n",
       "    <tr>\n",
       "      <th>3</th>\n",
       "      <td>D</td>\n",
       "      <td>4</td>\n",
       "    </tr>\n",
       "  </tbody>\n",
       "</table>\n",
       "</div>"
      ],
      "text/plain": [
       "  Name  Id\n",
       "0    A   1\n",
       "1    B   2\n",
       "2    C   3\n",
       "3    D   4"
      ]
     },
     "execution_count": 6,
     "metadata": {},
     "output_type": "execute_result"
    }
   ],
   "source": [
    "import os\n",
    "import pandas as pd\n",
    "dis = os.listdir()\n",
    "files = next((file for file in dis if file.endswith(\"Book1.xlsx\")),None)\n",
    "x= pd.read_excel(files)\n",
    "x"
   ]
  },
  {
   "cell_type": "code",
   "execution_count": 12,
   "id": "b1623bd7",
   "metadata": {},
   "outputs": [
    {
     "data": {
      "text/html": [
       "<div>\n",
       "<style scoped>\n",
       "    .dataframe tbody tr th:only-of-type {\n",
       "        vertical-align: middle;\n",
       "    }\n",
       "\n",
       "    .dataframe tbody tr th {\n",
       "        vertical-align: top;\n",
       "    }\n",
       "\n",
       "    .dataframe thead th {\n",
       "        text-align: right;\n",
       "    }\n",
       "</style>\n",
       "<table border=\"1\" class=\"dataframe\">\n",
       "  <thead>\n",
       "    <tr style=\"text-align: right;\">\n",
       "      <th></th>\n",
       "      <th>Number</th>\n",
       "      <th>Word</th>\n",
       "    </tr>\n",
       "  </thead>\n",
       "  <tbody>\n",
       "    <tr>\n",
       "      <th>0</th>\n",
       "      <td>1</td>\n",
       "      <td>Vinay</td>\n",
       "    </tr>\n",
       "    <tr>\n",
       "      <th>1</th>\n",
       "      <td>2</td>\n",
       "      <td>Sonu</td>\n",
       "    </tr>\n",
       "    <tr>\n",
       "      <th>2</th>\n",
       "      <td>3</td>\n",
       "      <td>Ram</td>\n",
       "    </tr>\n",
       "  </tbody>\n",
       "</table>\n",
       "</div>"
      ],
      "text/plain": [
       "   Number   Word\n",
       "0       1  Vinay\n",
       "1       2   Sonu\n",
       "2       3    Ram"
      ]
     },
     "execution_count": 12,
     "metadata": {},
     "output_type": "execute_result"
    }
   ],
   "source": [
    "import pandas as pd\n",
    "x = [1,2,3,'vinay','SoNu','RaM']\n",
    "num = []\n",
    "word = []\n",
    "for i in x :\n",
    "    if isinstance(i,int):\n",
    "        num.append(i)\n",
    "    if isinstance(i,str):\n",
    "        proper = i.capitalize()\n",
    "        word.append(proper)\n",
    "# print(num)\n",
    "# print(word)\n",
    "\n",
    "number_word = pd.DataFrame({\n",
    "    'Number': num,\n",
    "    'Word':word\n",
    "})\n",
    "\n",
    "number_word"
   ]
  },
  {
   "cell_type": "code",
   "execution_count": null,
   "id": "ccafe60e",
   "metadata": {},
   "outputs": [
    {
     "name": "stdout",
     "output_type": "stream",
     "text": [
      "123vinay\n",
      "Vinay\n",
      "Yadav\n"
     ]
    }
   ],
   "source": [
    "y = ['123vinay','vinay yadav']\n",
    "for i in y:\n",
    "    if isinstance(i,str):\n",
    "        propers = i.split(\" \")\n",
    "        for j in propers:\n",
    "            print(j.capitalize())\n",
    "        "
   ]
  },
  {
   "cell_type": "code",
   "execution_count": null,
   "id": "2079cabc",
   "metadata": {},
   "outputs": [
    {
     "name": "stdout",
     "output_type": "stream",
     "text": [
      "['Vinay', 'Yadav']\n"
     ]
    }
   ],
   "source": [
    "# def word_ch(word):\n",
    "#     letter = []\n",
    "#     sp = word.split(\" \")  \n",
    "#     for i in sp:\n",
    "#         stro = i.capitalize()\n",
    "#         letter.append(stro)\n",
    "#     return letter\n",
    "\n",
    "# word = 'vinay yadav'\n",
    "# print(word_ch(word))\n",
    "\n",
    "\n",
    "def solve(s):\n",
    "    spilting = s.split(\" \")\n",
    "    letter = [i.capitalize() for i in spilting]\n",
    "    return \" \".join(letter)\n",
    "\n",
    "word = input(\"Enter Word: \")\n",
    "print(solve(word))"
   ]
  },
  {
   "cell_type": "code",
   "execution_count": 60,
   "id": "5f85dc74",
   "metadata": {},
   "outputs": [
    {
     "name": "stdout",
     "output_type": "stream",
     "text": [
      "2\n"
     ]
    }
   ],
   "source": [
    "#Count substring occurrences\n",
    "string = 'ABCDCDC'\n",
    "sub_string = 'CDC'\n",
    "count = 0\n",
    "for i in range(len(string) - len(sub_string) + 1):\n",
    "    if string[i:i+len(sub_string)] == sub_string:\n",
    "        count +=1\n",
    "print(count) "
   ]
  },
  {
   "cell_type": "code",
   "execution_count": 91,
   "id": "63417db7",
   "metadata": {},
   "outputs": [
    {
     "name": "stdout",
     "output_type": "stream",
     "text": [
      "True\n"
     ]
    }
   ],
   "source": [
    "s = 'qA2'\n",
    "if s.isalnum():\n",
    "    print(True)\n",
    "if s.isalpha():\n",
    "    print(True)"
   ]
  },
  {
   "cell_type": "code",
   "execution_count": null,
   "id": "e12356d4",
   "metadata": {},
   "outputs": [],
   "source": [
    "# Thickness must be an odd number\n",
    "thickness = 5 # Example: 5\n",
    "c = 'H'\n",
    "for i in range(thickness):print((c*i).rjust(thickness-1) + c + (c*i).ljust(thickness-1))\n",
    "for i in range(thickness+1):print((c*thickness).center(thickness*2) + (c*thickness).center(thickness*6))\n",
    "for i in range((thickness+1)//2):print((c*thickness*5).center(thickness*6))\n",
    "for i in range(thickness+1):print((c*thickness).center(thickness*2) + (c*thickness).center(thickness*6))\n",
    "for i in range(thickness):print(((c*(thickness-i-1)).rjust(thickness) + c + (c*(thickness-i-1)).ljust(thickness)).rjust(thickness*6))\n"
   ]
  },
  {
   "cell_type": "code",
   "execution_count": 108,
   "id": "52fecc00",
   "metadata": {},
   "outputs": [
    {
     "name": "stdout",
     "output_type": "stream",
     "text": [
      "ABCD\n",
      "EFGH\n",
      "IJKL\n",
      "IMNO\n",
      "QRST\n",
      "UVWX\n",
      "YZ\n"
     ]
    }
   ],
   "source": [
    "import textwrap\n",
    "# w = 'ABCDEFGHIJKLIMNOQRSTUVWXYZ'\n",
    "\n",
    "# wr = textwrap.TextWrapper(width=4).wrap(text=w)\n",
    "# # wor = wr.wrap(text=w)\n",
    "# for element in wr: \n",
    "#     print(element) \n",
    "\n",
    "def wrap(string, max_width):\n",
    "    s_wrap = textwrap.TextWrapper(width = max_width).wrap(text = string)\n",
    "    return \"\\n\".join(s_wrap)\n",
    "\n",
    "\n",
    "string = 'ABCDEFGHIJKLIMNOQRSTUVWXYZ'\n",
    "max_width = 4\n",
    "print(wrap(string, max_width))\n",
    "\n"
   ]
  },
  {
   "cell_type": "code",
   "execution_count": 115,
   "id": "64efc6d0",
   "metadata": {},
   "outputs": [
    {
     "name": "stdout",
     "output_type": "stream",
     "text": [
      "AB\n",
      "CA\n",
      "AD\n"
     ]
    }
   ],
   "source": [
    "# import textwrap\n",
    "# w = 'AABCAAADA'\n",
    "# wr = textwrap.TextWrapper(width=3).wrap(text=w)\n",
    "# for element in wr:\n",
    "#     print(unique(element)) \n",
    "#\n",
    "\n",
    "import textwrap\n",
    "def unique(segment):\n",
    "    result = \"\"\n",
    "    for char in segment:\n",
    "        if char not in result:\n",
    "            result += char\n",
    "    return result\n",
    "\n",
    "w = 'AABCAAADA'\n",
    "wr = textwrap.TextWrapper(width=3).wrap(text=w)\n",
    "\n",
    "for element in wr:\n",
    "    print(unique(element))\n"
   ]
  },
  {
   "cell_type": "code",
   "execution_count": 123,
   "id": "3d8e540a",
   "metadata": {},
   "outputs": [
    {
     "name": "stdout",
     "output_type": "stream",
     "text": [
      "AB\n",
      "CA\n",
      "AD\n",
      "None\n"
     ]
    }
   ],
   "source": [
    "def merge_the_tools(string, k):\n",
    "    def unique(string):\n",
    "        result = \"\"\n",
    "        for char in string:\n",
    "            if char not in result:\n",
    "                result += char\n",
    "        return result\n",
    "    \n",
    "    for i in range(0, len(string), k):\n",
    "        segment = string[i:i+k]\n",
    "        print(unique(segment))\n",
    "\n",
    "\n",
    "print(merge_the_tools('AABCAAADA',3))\n"
   ]
  },
  {
   "cell_type": "code",
   "execution_count": 158,
   "id": "519a5e93",
   "metadata": {},
   "outputs": [
    {
     "name": "stdout",
     "output_type": "stream",
     "text": [
      "{'UK', 'USA', 'France', 'China', 'New Zealand'}\n"
     ]
    }
   ],
   "source": [
    "x = [7,'UK','China','USA','France','New Zealand','UK','France']\n",
    "country = set()\n",
    "for store in x:\n",
    "    if isinstance(store,str):\n",
    "        country.add(store)\n",
    "    \n",
    "print(country)"
   ]
  },
  {
   "cell_type": "code",
   "execution_count": null,
   "id": "f784b6c4",
   "metadata": {},
   "outputs": [
    {
     "name": "stdout",
     "output_type": "stream",
     "text": [
      "False\n"
     ]
    }
   ],
   "source": [
    "def is_leap(year):\n",
    "    if (year%4==0 and year%100!=0) or (year % 400==0):\n",
    "        return True\n",
    "    else:\n",
    "        return False\n",
    "year = 1990\n",
    "print(is_leap(year))"
   ]
  },
  {
   "cell_type": "code",
   "execution_count": null,
   "id": "343c90c2",
   "metadata": {},
   "outputs": [
    {
     "name": "stdout",
     "output_type": "stream",
     "text": [
      "WEDNESDAY\n"
     ]
    }
   ],
   "source": [
    "import calendar\n",
    "year = 2015 #int(input())\n",
    "month = 8 # int(input())\n",
    "day = 5\n",
    "\n",
    "week_day = calendar.weekday(year,month,day)\n",
    "dayName = calendar.day_name[week_day]\n",
    "print(dayName.upper())"
   ]
  },
  {
   "cell_type": "code",
   "execution_count": null,
   "id": "49babae0",
   "metadata": {},
   "outputs": [
    {
     "name": "stdout",
     "output_type": "stream",
     "text": [
      "[[0, 0, 0], [0, 0, 1], [0, 1, 0], [1, 0, 0], [1, 1, 1]]\n"
     ]
    }
   ],
   "source": [
    "x = 1\n",
    "y = 1\n",
    "z = 1\n",
    "n = 2\n",
    "result = [[i, j, k] \n",
    "          for i in range(x + 1) \n",
    "          for j in range(y + 1) \n",
    "          for k in range(z + 1) \n",
    "          if i + j + k != n]\n",
    "\n",
    "print(result)\n"
   ]
  },
  {
   "cell_type": "code",
   "execution_count": null,
   "id": "29f3ea2f",
   "metadata": {},
   "outputs": [
    {
     "name": "stdout",
     "output_type": "stream",
     "text": [
      "None\n"
     ]
    }
   ],
   "source": [
    "x= 5\n",
    "a = '2 3 6 6 5'\n",
    "ar = map(int,a.split())\n",
    "uq = list(set(a))\n",
    "z = uq.sort()\n",
    "print(z)        "
   ]
  },
  {
   "cell_type": "code",
   "execution_count": null,
   "id": "c25d155b",
   "metadata": {},
   "outputs": [
    {
     "name": "stdout",
     "output_type": "stream",
     "text": [
      "33333333: Rupees Three crore, thirty-three lakh, thirty-three thousand, three hundred and thirty-three\n"
     ]
    }
   ],
   "source": [
    "import pandas as pd\n",
    "from num2words import num2words\n",
    "\n",
    "def numtoword(num):\n",
    "    if isinstance(num, (int)):\n",
    "        word = num2words(num, lang='en_IN')\n",
    "        return f\"{num}: Rupees {word.capitalize()}\"\n",
    "    else:\n",
    "        return \"\"\n",
    "print(numtoword(33333333))"
   ]
  },
  {
   "cell_type": "code",
   "execution_count": null,
   "id": "1ab29dee",
   "metadata": {},
   "outputs": [],
   "source": []
  },
  {
   "cell_type": "code",
   "execution_count": null,
   "id": "2c649545",
   "metadata": {},
   "outputs": [],
   "source": []
  }
 ],
 "metadata": {
  "kernelspec": {
   "display_name": "Python 3",
   "language": "python",
   "name": "python3"
  },
  "language_info": {
   "codemirror_mode": {
    "name": "ipython",
    "version": 3
   },
   "file_extension": ".py",
   "mimetype": "text/x-python",
   "name": "python",
   "nbconvert_exporter": "python",
   "pygments_lexer": "ipython3",
   "version": "3.13.1"
  }
 },
 "nbformat": 4,
 "nbformat_minor": 5
}
